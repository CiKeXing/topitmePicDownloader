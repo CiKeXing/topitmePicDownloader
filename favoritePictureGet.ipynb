{
 "cells": [
  {
   "cell_type": "code",
   "execution_count": null,
   "metadata": {
    "collapsed": true
   },
   "outputs": [],
   "source": [
    "import requests\n",
    "import json\n",
    "from math import ceil\n",
    "\n",
    "def getJson(url):\n",
    "    getJsonRequests = requests.get(url)\n",
    "    getJsonLoads = json.loads(getJsonRequests.text)\n",
    "    return getJsonLoads\n",
    "\n",
    "def pictureSave(name,url):\n",
    "    with open(name.format(),'wb') as file:\n",
    "        file.write(requests.get(url).content)\n",
    "\n",
    "idPage = 'http://api.topitme.com/?appVersion=508&device=ios&build=4.3.13&ipad=YES&ch=AppStore&openudid=d8793876f280c8d5808d0faaf0dc8b8d96d679f4&screen=1536x2048&id=3451964&method=user.get&offset=0&limit=30'\n",
    "idJson = getJson(idPage)\n",
    "favoritePictureUrl = idJson['item']\n",
    "favoritePictureNum = idJson['info']['num']\n",
    "favoritePictureUrlList = []\n",
    "urlParts = idPage.split('&')\n",
    "urlLeft = 'http://api.topitme.com/?appVersion=508&device=ios&build=4.3.13&ipad=YES&ch=AppStore&openudid=d8793876f280c8d5808d0faaf0dc8b8d96d679f4&screen=1536x2048&id='\n",
    "urlRight = '&method=item.getIcon&type=o'\n",
    "\n",
    "for i in range(ceil(favoritePictureNum / 30)):\n",
    "    urlParts[-2] = 'offset=' + str(i * 30)\n",
    "    favoritePictureUrlList.append('&'.join(urlParts))\n",
    "\n",
    "#需要创建目录，在目录内存放图片\n",
    "for i in favoritePictureUrlList:\n",
    "    pictureJsonLoad = getJson(i)\n",
    "    for j in pictureJsonLoad['item']:\n",
    "        pictureId = j['id']\n",
    "        pictureContentedUrl = urlLeft + pictureId + urlRight\n",
    "        pictureUrl = getJson(pictureContentedUrl)['item'][0]['icon']['url']\n",
    "        pictureSave(pictureUrl.split('/')[-1],pictureUrl)\n",
    "\n"
   ]
  }
 ],
 "metadata": {
  "kernelspec": {
   "display_name": "Python 3",
   "language": "python",
   "name": "python3"
  },
  "language_info": {
   "codemirror_mode": {
    "name": "ipython",
    "version": 3
   },
   "file_extension": ".py",
   "mimetype": "text/x-python",
   "name": "python",
   "nbconvert_exporter": "python",
   "pygments_lexer": "ipython3",
   "version": "3.6.1"
  }
 },
 "nbformat": 4,
 "nbformat_minor": 2
}
