{
 "cells": [
  {
   "cell_type": "code",
   "execution_count": null,
   "metadata": {},
   "outputs": [],
   "source": [
    "import requests\n",
    "import json\n",
    "from math import ceil\n",
    "import os\n",
    "\n",
    "def getJson(url):\n",
    "    getJsonRequests = requests.get(url)\n",
    "    getJsonLoads = json.loads(getJsonRequests.text)\n",
    "    return getJsonLoads\n",
    "\n",
    "def pictureSave(name,url):\n",
    "    headers = {'User-Agent': 'Mozilla/5.0 (Windows NT 6.1; WOW64) AppleWebKit/537.36 (KHTML, like Gecko) Chrome/35.0.1916.114 Safari/537.36','Cookie': 'AspxAutoDetectCookieSupport=1',}\n",
    "    with open(name.format(),'wb') as file:\n",
    "        file.write(requests.get(url,headers = headers).content)\n",
    "\n",
    "idPage = 'http://api.topitme.com/?appVersion=508&device=ios&build=4.3.13&ipad=NO&ch=AppStore&openudid=8760362a232719eb2c1bd3d745bcc1e20bf310ad&screen=1242x2208&id=115368&method=user.get&offset=0&limit=30'\n",
    "idJson = getJson(idPage)\n",
    "favoritePictureUrl = idJson['item']\n",
    "favoritePictureNum = idJson['info']['num']\n",
    "favoritePictureUrlList = []\n",
    "urlParts = idPage.split('&')\n",
    "urlLeft = 'http://api.topitme.com/?appVersion=508&device=ios&build=4.3.13&ipad=NO&ch=AppStore&openudid=8760362a232719eb2c1bd3d745bcc1e20bf310ad&screen=1242x2208&id='\n",
    "urlRight = '&method=item.getIcon&type=o'\n",
    "\n",
    "try:\n",
    "    os.makedirs('喜欢的图片')\n",
    "except:\n",
    "    os.chdir('喜欢的图片')\n",
    "\n",
    "for i in range(ceil(favoritePictureNum / 30)):\n",
    "    urlParts[-2] = 'offset=' + str(i * 30)\n",
    "    favoritePictureUrlList.append('&'.join(urlParts))\n",
    "\n",
    "for i in favoritePictureUrlList:\n",
    "    pictureJsonLoad = getJson(i)\n",
    "    for j in pictureJsonLoad['item']:\n",
    "        pictureId = j['id']\n",
    "        pictureContentedUrl = urlLeft + pictureId + urlRight\n",
    "        pictureUrl = getJson(pictureContentedUrl)['item'][0]['icon']['url']\n",
    "        pictureSave(pictureUrl.split('/')[-1],pictureUrl)"
   ]
  },
  {
   "cell_type": "code",
   "execution_count": null,
   "metadata": {
    "collapsed": true
   },
   "outputs": [],
   "source": []
  }
 ],
 "metadata": {
  "kernelspec": {
   "display_name": "Python 3",
   "language": "python",
   "name": "python3"
  }
 },
 "nbformat": 4,
 "nbformat_minor": 2
}
