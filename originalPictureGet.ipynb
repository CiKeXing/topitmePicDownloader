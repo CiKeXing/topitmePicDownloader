{
 "cells": [
  {
   "cell_type": "code",
   "execution_count": 9,
   "metadata": {},
   "outputs": [
    {
     "name": "stdout",
     "output_type": "stream",
     "text": [
      "请输入用户ID:115368\n"
     ]
    }
   ],
   "source": [
    "import requests\n",
    "import json\n",
    "from math import ceil\n",
    "import os\n",
    "\n",
    "defaultPath = os.getcwd()\n",
    "\n",
    "def getJson(url):\n",
    "    getJsonRequests = requests.get(url)\n",
    "    getJsonLoads = json.loads(getJsonRequests.text)\n",
    "    return getJsonLoads\n",
    "\n",
    "def pictureSave(name,url):\n",
    "    headers = {'User-Agent': 'Mozilla/5.0 (Windows NT 6.1; WOW64) AppleWebKit/537.36 (KHTML, like Gecko) Chrome/35.0.1916.114 Safari/537.36','Cookie': 'AspxAutoDetectCookieSupport=1',}\n",
    "    with open(name.format(),'wb') as file:\n",
    "        file.write(requests.get(url,headers = headers).content)\n",
    "\n",
    "inputString = input(\"请输入用户ID:\")\n",
    "\n",
    "idPage = 'http://api.topitme.com/?appVersion=508&device=ios&build=4.3.13&ipad=NO&ch=AppStore&openudid=8760362a232719eb2c1bd3d745bcc1e20bf310ad&screen=1242x2208&id=' + inputString + '&method=user.get&offset=0&limit=30'\n",
    "idJson = getJson(idPage)\n",
    "favoritePictureUrl = 'http://api.topitme.com/?appVersion=508&device=ios&build=4.3.13&ipad=NO&ch=AppStore&openudid=8760362a232719eb2c1bd3d745bcc1e20bf310ad&screen=1242x2208&method=user.getItems&offset=0&id=' + inputString + '&data_ref=id%253D115368%2526method%253Duser.get%2526offset%253D0%2526limit%253D30&limit=30&r=57&offset=0&type=0'\n",
    "favoritePictureNum = idJson['info']['category'][2]['more']['num']\n",
    "favoritePictureUrlList = []\n",
    "urlParts = favoritePictureUrl.split('&')\n",
    "urlLeft = 'http://api.topitme.com/?appVersion=508&device=ios&build=4.3.13&ipad=NO&ch=AppStore&openudid=8760362a232719eb2c1bd3d745bcc1e20bf310ad&screen=1242x2208&id='\n",
    "urlRight = '&method=item.getIcon&type=o'\n",
    "\n",
    "\n",
    "os.makedirs('原创图片')\n",
    "os.chdir('原创图片')\n",
    "\n",
    "for i in range(ceil(favoritePictureNum / 30)):\n",
    "    urlParts[-2] = 'offset=' + str(i * 30)\n",
    "    favoritePictureUrlList.append('&'.join(urlParts))\n",
    "\n",
    "for i in favoritePictureUrlList:\n",
    "    pictureJsonLoad = getJson(i)\n",
    "    for j in pictureJsonLoad['item']:\n",
    "        pictureId = j['id']\n",
    "        pictureContentedUrl = urlLeft + pictureId + urlRight\n",
    "        pictureUrl = getJson(pictureContentedUrl)['item'][0]['icon']['url']\n",
    "        pictureSave(pictureUrl.split('/')[-1],pictureUrl)\n",
    "        \n",
    "os.chdir(defaultPath)"
   ]
  },
  {
   "cell_type": "code",
   "execution_count": 5,
   "metadata": {},
   "outputs": [
    {
     "data": {
      "text/plain": [
       "['http://api.topitme.com?method=user.getItems',\n",
       " 'id=115368',\n",
       " 'type=0',\n",
       " 'data_ref=id%3D115368%26method%3Duser.get%26offset%3D0%26limit%3D30']"
      ]
     },
     "execution_count": 5,
     "metadata": {},
     "output_type": "execute_result"
    }
   ],
   "source": [
    "favoritePictureUrl.split('&')"
   ]
  },
  {
   "cell_type": "code",
   "execution_count": 4,
   "metadata": {},
   "outputs": [
    {
     "data": {
      "text/plain": [
       "201"
      ]
     },
     "execution_count": 4,
     "metadata": {},
     "output_type": "execute_result"
    }
   ],
   "source": [
    "favoritePictureNum"
   ]
  },
  {
   "cell_type": "code",
   "execution_count": 6,
   "metadata": {},
   "outputs": [
    {
     "data": {
      "text/plain": [
       "['http://api.topitme.com/?appVersion=508',\n",
       " 'device=ios',\n",
       " 'build=4.3.13',\n",
       " 'ipad=NO',\n",
       " 'ch=AppStore',\n",
       " 'openudid=8760362a232719eb2c1bd3d745bcc1e20bf310ad',\n",
       " 'screen=1242x2208',\n",
       " 'method=user.getItems',\n",
       " 'offset=0',\n",
       " 'id=115368',\n",
       " 'data_ref=id%253D115368%2526method%253Duser.get%2526offset%253D0%2526limit%253D30',\n",
       " 'limit=30',\n",
       " 'r=57',\n",
       " 'type=0']"
      ]
     },
     "execution_count": 6,
     "metadata": {},
     "output_type": "execute_result"
    }
   ],
   "source": [
    "'http://api.topitme.com/?appVersion=508&device=ios&build=4.3.13&ipad=NO&ch=AppStore&openudid=8760362a232719eb2c1bd3d745bcc1e20bf310ad&screen=1242x2208&method=user.getItems&offset=0&id=115368&data_ref=id%253D115368%2526method%253Duser.get%2526offset%253D0%2526limit%253D30&limit=30&r=57&type=0'.split('&')"
   ]
  },
  {
   "cell_type": "code",
   "execution_count": 7,
   "metadata": {},
   "outputs": [
    {
     "data": {
      "text/plain": [
       "['http://api.topitme.com/?appVersion=508',\n",
       " 'device=ios',\n",
       " 'build=4.3.13',\n",
       " 'ipad=NO',\n",
       " 'ch=AppStore',\n",
       " 'openudid=8760362a232719eb2c1bd3d745bcc1e20bf310ad',\n",
       " 'screen=1242x2208',\n",
       " 'id=115368',\n",
       " 'method=user.getItems',\n",
       " 'data_ref=id%253D115368%2526method%253Duser.get%2526offset%253D0%2526limit%253D30',\n",
       " 'type=0',\n",
       " 'offset=30',\n",
       " 'limit=30']"
      ]
     },
     "execution_count": 7,
     "metadata": {},
     "output_type": "execute_result"
    }
   ],
   "source": [
    "'http://api.topitme.com/?appVersion=508&device=ios&build=4.3.13&ipad=NO&ch=AppStore&openudid=8760362a232719eb2c1bd3d745bcc1e20bf310ad&screen=1242x2208&id=115368&method=user.getItems&data_ref=id%253D115368%2526method%253Duser.get%2526offset%253D0%2526limit%253D30&type=0&offset=30&limit=30'.split('&')"
   ]
  },
  {
   "cell_type": "code",
   "execution_count": 6,
   "metadata": {},
   "outputs": [
    {
     "data": {
      "text/plain": [
       "['http://api.topitme.com/?appVersion=508',\n",
       " 'device=ios',\n",
       " 'build=4.3.13',\n",
       " 'ipad=NO',\n",
       " 'ch=AppStore',\n",
       " 'openudid=8760362a232719eb2c1bd3d745bcc1e20bf310ad',\n",
       " 'screen=1242x2208',\n",
       " 'id=115368',\n",
       " 'user.getItems',\n",
       " 'offset=0',\n",
       " 'limit=30']"
      ]
     },
     "execution_count": 6,
     "metadata": {},
     "output_type": "execute_result"
    }
   ],
   "source": [
    "favoritePictureUrlList[0].split('&')"
   ]
  },
  {
   "cell_type": "code",
   "execution_count": 5,
   "metadata": {},
   "outputs": [
    {
     "data": {
      "text/plain": [
       "['http://api.topitme.com/?appVersion=508',\n",
       " 'device=ios',\n",
       " 'build=4.3.13',\n",
       " 'ipad=NO',\n",
       " 'ch=AppStore',\n",
       " 'openudid=8760362a232719eb2c1bd3d745bcc1e20bf310ad',\n",
       " 'screen=1242x2208',\n",
       " 'id=115368',\n",
       " 'user.getItems',\n",
       " 'offset=0',\n",
       " 'limit=30']"
      ]
     },
     "execution_count": 5,
     "metadata": {},
     "output_type": "execute_result"
    }
   ],
   "source": []
  },
  {
   "cell_type": "code",
   "execution_count": 3,
   "metadata": {
    "collapsed": true
   },
   "outputs": [],
   "source": [
    "pictureJsonLoad = getJson(favoritePictureUrlList[0])"
   ]
  },
  {
   "cell_type": "code",
   "execution_count": 8,
   "metadata": {},
   "outputs": [
    {
     "data": {
      "text/plain": [
       "{'error': 'Invalid Method',\n",
       " 'error_code': 3,\n",
       " 'info': {'error': 'Invalid Method', 'error_code': 3},\n",
       " 'request': '/?appVersion=508&device=ios&build=4.3.13&ipad=NO&ch=AppStore&openudid=8760362a232719eb2c1bd3d745bcc1e20bf310ad&screen=1242x2208&id=115368&user.getItems&offset=0&limit=30&type=0&data_ref=id%253D115368%2526method%253Duser.get%2526offset%253D0%2526limit%253D30'}"
      ]
     },
     "execution_count": 8,
     "metadata": {},
     "output_type": "execute_result"
    }
   ],
   "source": [
    "pictureJsonLoad"
   ]
  },
  {
   "cell_type": "code",
   "execution_count": null,
   "metadata": {
    "collapsed": true
   },
   "outputs": [],
   "source": []
  }
 ],
 "metadata": {
  "kernelspec": {
   "display_name": "Python 3",
   "language": "python",
   "name": "python3"
  },
  "language_info": {
   "codemirror_mode": {
    "name": "ipython",
    "version": 3
   },
   "file_extension": ".py",
   "mimetype": "text/x-python",
   "name": "python",
   "nbconvert_exporter": "python",
   "pygments_lexer": "ipython3",
   "version": "3.6.1"
  }
 },
 "nbformat": 4,
 "nbformat_minor": 2
}
