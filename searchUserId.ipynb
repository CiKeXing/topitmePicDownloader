{
 "cells": [
  {
   "cell_type": "code",
   "execution_count": null,
   "metadata": {
    "collapsed": true
   },
   "outputs": [],
   "source": [
    "import requests\n",
    "import json\n",
    "\n",
    "domain = 'http://api.topitme.com/'\n",
    "payload = {'appVersion':'508','device':'ios','build':'4.3.13','ipad':'NO','ch':'AppStore','openudid':'cf6d8df6bff06078e4caf824ce190823dad86441','screen':'1242x2208','offset':'0','limit':'30',}\n",
    "\n",
    "payload['type'] = 'user'\n",
    "payload['method'] = 'search'\n",
    "#need loop\n",
    "def idSearch(): \n",
    "    idString = input(\"请输入你要搜索的ID:\")\n",
    "    payload['query'] = idString\n",
    "\n",
    "    global idList\n",
    "    idList = []\n",
    "    global nameList\n",
    "    nameList = []\n",
    "    \n",
    "    userSearchRequests = requests.get(domain,params=payload)\n",
    "    global userSearchJsonLoads\n",
    "    userSearchJsonLoads = json.loads(userSearchRequests.text)\n",
    "    \n",
    "    #global userSearchNum\n",
    "    userSearchNum = userSearchJsonLoads['info']['num']\n",
    "    \n",
    "    if int(userSearchNum) > 30:\n",
    "        print('共有' + userSearchNum.format() + '个搜索结果，仅显示前30个结果')\n",
    "    elif int(userSearchNum) < 1:\n",
    "        print('没有搜索结果，请重新输入你要搜索的ID')\n",
    "        idSearch()\n",
    "    else:\n",
    "        print('共有' + userSearchNum.format() + '个搜索结果')\n",
    "\n",
    "idSearch()\n",
    "\n",
    "for i in range(len(userSearchJsonLoads['item'])):\n",
    "    idList.append(userSearchJsonLoads['item'][i]['id'])\n",
    "    nameList.append(userSearchJsonLoads['item'][i]['name'])\n",
    "\n",
    "for i in range(len(nameList)):\n",
    "    print(str(i + 1),'\\t',idList[i],'\\t',nameList[i])\n",
    "    \n",
    "uidOrder = input('请输入用户名序号:')\n",
    "\n",
    "payload['id'] = idList[int(uidOrder) - 1]\n",
    "uname = nameList[int(uidOrder) - 1]\n",
    "\n",
    "print('你要搜索的用户是',uname.format())"
   ]
  }
 ],
 "metadata": {
  "kernelspec": {
   "display_name": "Python 3",
   "language": "python",
   "name": "python3"
  },
  "language_info": {
   "codemirror_mode": {
    "name": "ipython",
    "version": 3
   },
   "file_extension": ".py",
   "mimetype": "text/x-python",
   "name": "python",
   "nbconvert_exporter": "python",
   "pygments_lexer": "ipython3",
   "version": "3.6.1"
  }
 },
 "nbformat": 4,
 "nbformat_minor": 2
}
